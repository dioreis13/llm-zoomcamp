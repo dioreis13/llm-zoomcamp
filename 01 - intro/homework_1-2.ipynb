{
 "cells": [
  {
   "cell_type": "code",
   "execution_count": 2,
   "id": "b74a4f4f-3741-49bf-8867-a7f7fd611057",
   "metadata": {},
   "outputs": [],
   "source": [
    "import openai"
   ]
  },
  {
   "cell_type": "code",
   "execution_count": 3,
   "id": "fb68b58d-a09b-4894-8d5a-cab3000a2a68",
   "metadata": {},
   "outputs": [],
   "source": [
    "from openai import OpenAI"
   ]
  },
  {
   "cell_type": "code",
   "execution_count": 4,
   "id": "c920d21f-a71b-4be7-b428-1e0a19401e2d",
   "metadata": {},
   "outputs": [],
   "source": [
    "client = OpenAI()"
   ]
  },
  {
   "cell_type": "code",
   "execution_count": 5,
   "id": "7b56d185-f660-47e0-8919-3af9081aef33",
   "metadata": {},
   "outputs": [],
   "source": [
    "import os"
   ]
  },
  {
   "cell_type": "code",
   "execution_count": 8,
   "id": "801bbb61-4266-489a-90f7-ceccda6f10b8",
   "metadata": {},
   "outputs": [],
   "source": [
    "response = client.chat.completions.create(\n",
    "    model='gpt-4o',\n",
    "    messages=[{\"role\": \"user\", \"content\": \"how do I know the dates for this course?\"}]\n",
    ")"
   ]
  },
  {
   "cell_type": "code",
   "execution_count": 9,
   "id": "fe96fe40-ac3a-4e0b-bc5c-388b0e1bcf0e",
   "metadata": {},
   "outputs": [
    {
     "data": {
      "text/plain": [
       "ChatCompletion(id='chatcmpl-BhQtGp6VZ5QrVlkavbpJaPGkm5BKd', choices=[Choice(finish_reason='stop', index=0, logprobs=None, message=ChatCompletionMessage(content='To find the dates for a course, you can try the following methods:\\n\\n1. **Course Website:** Check the official website of the institution or organization offering the course. They often have a schedule or calendar section.\\n\\n2. **Email or Contact Support:** Reach out to the course administrators or support team via email or phone. They should be able to provide you with the necessary information.\\n\\n3. **Course Syllabus:** If you have access to the course syllabus, it may contain important dates and deadlines.\\n\\n4. **Online Learning Platform:** If the course is hosted on a learning management system like Canvas, Blackboard, or Coursera, check the platform for a schedule or announcements.\\n\\n5. **Social Media or Forums:** Sometimes, information about course schedules is shared in discussion forums or on social media platforms associated with the course.\\n\\nIf you’re still unable to find the information, providing more specifics about the course or institution might help narrow down the search.', refusal=None, role='assistant', annotations=[], audio=None, function_call=None, tool_calls=None))], created=1749691170, model='gpt-4o-2024-08-06', object='chat.completion', service_tier='default', system_fingerprint='fp_07871e2ad8', usage=CompletionUsage(completion_tokens=190, prompt_tokens=17, total_tokens=207, completion_tokens_details=CompletionTokensDetails(accepted_prediction_tokens=0, audio_tokens=0, reasoning_tokens=0, rejected_prediction_tokens=0), prompt_tokens_details=PromptTokensDetails(audio_tokens=0, cached_tokens=0)))"
      ]
     },
     "execution_count": 9,
     "metadata": {},
     "output_type": "execute_result"
    }
   ],
   "source": [
    "response"
   ]
  },
  {
   "cell_type": "code",
   "execution_count": 12,
   "id": "e2f33ea4-6828-4b78-b56b-454576b48b65",
   "metadata": {},
   "outputs": [
    {
     "data": {
      "text/plain": [
       "ChatCompletionMessage(content='To find the dates for a course, you can try the following methods:\\n\\n1. **Course Website:** Check the official website of the institution or organization offering the course. They often have a schedule or calendar section.\\n\\n2. **Email or Contact Support:** Reach out to the course administrators or support team via email or phone. They should be able to provide you with the necessary information.\\n\\n3. **Course Syllabus:** If you have access to the course syllabus, it may contain important dates and deadlines.\\n\\n4. **Online Learning Platform:** If the course is hosted on a learning management system like Canvas, Blackboard, or Coursera, check the platform for a schedule or announcements.\\n\\n5. **Social Media or Forums:** Sometimes, information about course schedules is shared in discussion forums or on social media platforms associated with the course.\\n\\nIf you’re still unable to find the information, providing more specifics about the course or institution might help narrow down the search.', refusal=None, role='assistant', annotations=[], audio=None, function_call=None, tool_calls=None)"
      ]
     },
     "execution_count": 12,
     "metadata": {},
     "output_type": "execute_result"
    }
   ],
   "source": [
    "response.choices[0].message"
   ]
  },
  {
   "cell_type": "code",
   "execution_count": null,
   "id": "d006e18f-5fdb-4c28-b0a1-1bd477197401",
   "metadata": {},
   "outputs": [],
   "source": []
  }
 ],
 "metadata": {
  "kernelspec": {
   "display_name": "Python 3 (ipykernel)",
   "language": "python",
   "name": "python3"
  },
  "language_info": {
   "codemirror_mode": {
    "name": "ipython",
    "version": 3
   },
   "file_extension": ".py",
   "mimetype": "text/x-python",
   "name": "python",
   "nbconvert_exporter": "python",
   "pygments_lexer": "ipython3",
   "version": "3.12.1"
  }
 },
 "nbformat": 4,
 "nbformat_minor": 5
}
